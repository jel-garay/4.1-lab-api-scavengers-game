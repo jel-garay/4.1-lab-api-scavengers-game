{
 "cells": [
  {
   "cell_type": "markdown",
   "id": "threaded-asbestos",
   "metadata": {},
   "source": [
    "# Challenge 2: Count Commits\n",
    "\n",
    "Count how many commits were made in the past week.\n",
    "\n",
    "Obtain all the commits made in the past week via API, which is a JSON array that contains multiple commit objects.\n",
    "\n",
    "Count how many commit objects are contained in the array."
   ]
  },
  {
   "cell_type": "markdown",
   "id": "norwegian-praise",
   "metadata": {},
   "source": [
    "⚠️ **Remember to limit your output before submission**."
   ]
  },
  {
   "cell_type": "code",
   "execution_count": 7,
   "id": "developing-printing",
   "metadata": {},
   "outputs": [],
   "source": [
    "import json\n",
    "import requests"
   ]
  },
  {
   "cell_type": "code",
   "execution_count": 8,
   "id": "47137772",
   "metadata": {},
   "outputs": [],
   "source": [
    "with open('../password.txt', 'r') as file:\n",
    "    pass_=file.read()"
   ]
  },
  {
   "cell_type": "code",
   "execution_count": 9,
   "id": "4e2dd4ee",
   "metadata": {},
   "outputs": [],
   "source": [
    "HEADER={'Authorization': 'token ' + pass_}"
   ]
  },
  {
   "cell_type": "code",
   "execution_count": 16,
   "id": "f16a3efb",
   "metadata": {},
   "outputs": [],
   "source": [
    "url_2='https://api.github.com/repos/Ironhack-Data-Madrid-Enero-2023/apuntes_clase'"
   ]
  },
  {
   "cell_type": "code",
   "execution_count": 17,
   "id": "6dc77a9e",
   "metadata": {},
   "outputs": [],
   "source": [
    "import requests as req"
   ]
  },
  {
   "cell_type": "code",
   "execution_count": 19,
   "id": "35263a41",
   "metadata": {},
   "outputs": [
    {
     "data": {
      "text/plain": [
       "<Response [200]>"
      ]
     },
     "execution_count": 19,
     "metadata": {},
     "output_type": "execute_result"
    }
   ],
   "source": [
    "result_git=req.get(url_2)\n",
    "\n",
    "result_git"
   ]
  },
  {
   "cell_type": "code",
   "execution_count": 24,
   "id": "f185516d",
   "metadata": {},
   "outputs": [
    {
     "data": {
      "text/plain": [
       "{'id': 588107458,\n",
       " 'node_id': 'R_kgDOIw3Owg',\n",
       " 'name': 'apuntes_clase',\n",
       " 'full_name': 'Ironhack-Data-Madrid-Enero-2023/apuntes_clase',\n",
       " 'private': False,\n",
       " 'owner': {'login': 'Ironhack-Data-Madrid-Enero-2023',\n",
       "  'id': 122526190,\n",
       "  'node_id': 'O_kgDOB02Z7g',\n",
       "  'avatar_url': 'https://avatars.githubusercontent.com/u/122526190?v=4',\n",
       "  'gravatar_id': '',\n",
       "  'url': 'https://api.github.com/users/Ironhack-Data-Madrid-Enero-2023',\n",
       "  'html_url': 'https://github.com/Ironhack-Data-Madrid-Enero-2023',\n",
       "  'followers_url': 'https://api.github.com/users/Ironhack-Data-Madrid-Enero-2023/followers',\n",
       "  'following_url': 'https://api.github.com/users/Ironhack-Data-Madrid-Enero-2023/following{/other_user}',\n",
       "  'gists_url': 'https://api.github.com/users/Ironhack-Data-Madrid-Enero-2023/gists{/gist_id}',\n",
       "  'starred_url': 'https://api.github.com/users/Ironhack-Data-Madrid-Enero-2023/starred{/owner}{/repo}',\n",
       "  'subscriptions_url': 'https://api.github.com/users/Ironhack-Data-Madrid-Enero-2023/subscriptions',\n",
       "  'organizations_url': 'https://api.github.com/users/Ironhack-Data-Madrid-Enero-2023/orgs',\n",
       "  'repos_url': 'https://api.github.com/users/Ironhack-Data-Madrid-Enero-2023/repos',\n",
       "  'events_url': 'https://api.github.com/users/Ironhack-Data-Madrid-Enero-2023/events{/privacy}',\n",
       "  'received_events_url': 'https://api.github.com/users/Ironhack-Data-Madrid-Enero-2023/received_events',\n",
       "  'type': 'Organization',\n",
       "  'site_admin': False},\n",
       " 'html_url': 'https://github.com/Ironhack-Data-Madrid-Enero-2023/apuntes_clase',\n",
       " 'description': 'Material diario de clase',\n",
       " 'fork': False,\n",
       " 'url': 'https://api.github.com/repos/Ironhack-Data-Madrid-Enero-2023/apuntes_clase',\n",
       " 'forks_url': 'https://api.github.com/repos/Ironhack-Data-Madrid-Enero-2023/apuntes_clase/forks',\n",
       " 'keys_url': 'https://api.github.com/repos/Ironhack-Data-Madrid-Enero-2023/apuntes_clase/keys{/key_id}',\n",
       " 'collaborators_url': 'https://api.github.com/repos/Ironhack-Data-Madrid-Enero-2023/apuntes_clase/collaborators{/collaborator}',\n",
       " 'teams_url': 'https://api.github.com/repos/Ironhack-Data-Madrid-Enero-2023/apuntes_clase/teams',\n",
       " 'hooks_url': 'https://api.github.com/repos/Ironhack-Data-Madrid-Enero-2023/apuntes_clase/hooks',\n",
       " 'issue_events_url': 'https://api.github.com/repos/Ironhack-Data-Madrid-Enero-2023/apuntes_clase/issues/events{/number}',\n",
       " 'events_url': 'https://api.github.com/repos/Ironhack-Data-Madrid-Enero-2023/apuntes_clase/events',\n",
       " 'assignees_url': 'https://api.github.com/repos/Ironhack-Data-Madrid-Enero-2023/apuntes_clase/assignees{/user}',\n",
       " 'branches_url': 'https://api.github.com/repos/Ironhack-Data-Madrid-Enero-2023/apuntes_clase/branches{/branch}',\n",
       " 'tags_url': 'https://api.github.com/repos/Ironhack-Data-Madrid-Enero-2023/apuntes_clase/tags',\n",
       " 'blobs_url': 'https://api.github.com/repos/Ironhack-Data-Madrid-Enero-2023/apuntes_clase/git/blobs{/sha}',\n",
       " 'git_tags_url': 'https://api.github.com/repos/Ironhack-Data-Madrid-Enero-2023/apuntes_clase/git/tags{/sha}',\n",
       " 'git_refs_url': 'https://api.github.com/repos/Ironhack-Data-Madrid-Enero-2023/apuntes_clase/git/refs{/sha}',\n",
       " 'trees_url': 'https://api.github.com/repos/Ironhack-Data-Madrid-Enero-2023/apuntes_clase/git/trees{/sha}',\n",
       " 'statuses_url': 'https://api.github.com/repos/Ironhack-Data-Madrid-Enero-2023/apuntes_clase/statuses/{sha}',\n",
       " 'languages_url': 'https://api.github.com/repos/Ironhack-Data-Madrid-Enero-2023/apuntes_clase/languages',\n",
       " 'stargazers_url': 'https://api.github.com/repos/Ironhack-Data-Madrid-Enero-2023/apuntes_clase/stargazers',\n",
       " 'contributors_url': 'https://api.github.com/repos/Ironhack-Data-Madrid-Enero-2023/apuntes_clase/contributors',\n",
       " 'subscribers_url': 'https://api.github.com/repos/Ironhack-Data-Madrid-Enero-2023/apuntes_clase/subscribers',\n",
       " 'subscription_url': 'https://api.github.com/repos/Ironhack-Data-Madrid-Enero-2023/apuntes_clase/subscription',\n",
       " 'commits_url': 'https://api.github.com/repos/Ironhack-Data-Madrid-Enero-2023/apuntes_clase/commits{/sha}',\n",
       " 'git_commits_url': 'https://api.github.com/repos/Ironhack-Data-Madrid-Enero-2023/apuntes_clase/git/commits{/sha}',\n",
       " 'comments_url': 'https://api.github.com/repos/Ironhack-Data-Madrid-Enero-2023/apuntes_clase/comments{/number}',\n",
       " 'issue_comment_url': 'https://api.github.com/repos/Ironhack-Data-Madrid-Enero-2023/apuntes_clase/issues/comments{/number}',\n",
       " 'contents_url': 'https://api.github.com/repos/Ironhack-Data-Madrid-Enero-2023/apuntes_clase/contents/{+path}',\n",
       " 'compare_url': 'https://api.github.com/repos/Ironhack-Data-Madrid-Enero-2023/apuntes_clase/compare/{base}...{head}',\n",
       " 'merges_url': 'https://api.github.com/repos/Ironhack-Data-Madrid-Enero-2023/apuntes_clase/merges',\n",
       " 'archive_url': 'https://api.github.com/repos/Ironhack-Data-Madrid-Enero-2023/apuntes_clase/{archive_format}{/ref}',\n",
       " 'downloads_url': 'https://api.github.com/repos/Ironhack-Data-Madrid-Enero-2023/apuntes_clase/downloads',\n",
       " 'issues_url': 'https://api.github.com/repos/Ironhack-Data-Madrid-Enero-2023/apuntes_clase/issues{/number}',\n",
       " 'pulls_url': 'https://api.github.com/repos/Ironhack-Data-Madrid-Enero-2023/apuntes_clase/pulls{/number}',\n",
       " 'milestones_url': 'https://api.github.com/repos/Ironhack-Data-Madrid-Enero-2023/apuntes_clase/milestones{/number}',\n",
       " 'notifications_url': 'https://api.github.com/repos/Ironhack-Data-Madrid-Enero-2023/apuntes_clase/notifications{?since,all,participating}',\n",
       " 'labels_url': 'https://api.github.com/repos/Ironhack-Data-Madrid-Enero-2023/apuntes_clase/labels{/name}',\n",
       " 'releases_url': 'https://api.github.com/repos/Ironhack-Data-Madrid-Enero-2023/apuntes_clase/releases{/id}',\n",
       " 'deployments_url': 'https://api.github.com/repos/Ironhack-Data-Madrid-Enero-2023/apuntes_clase/deployments',\n",
       " 'created_at': '2023-01-12T10:45:43Z',\n",
       " 'updated_at': '2023-02-06T15:58:12Z',\n",
       " 'pushed_at': '2023-02-06T11:36:13Z',\n",
       " 'git_url': 'git://github.com/Ironhack-Data-Madrid-Enero-2023/apuntes_clase.git',\n",
       " 'ssh_url': 'git@github.com:Ironhack-Data-Madrid-Enero-2023/apuntes_clase.git',\n",
       " 'clone_url': 'https://github.com/Ironhack-Data-Madrid-Enero-2023/apuntes_clase.git',\n",
       " 'svn_url': 'https://github.com/Ironhack-Data-Madrid-Enero-2023/apuntes_clase',\n",
       " 'homepage': None,\n",
       " 'size': 659902,\n",
       " 'stargazers_count': 1,\n",
       " 'watchers_count': 1,\n",
       " 'language': 'Jupyter Notebook',\n",
       " 'has_issues': True,\n",
       " 'has_projects': True,\n",
       " 'has_downloads': True,\n",
       " 'has_wiki': True,\n",
       " 'has_pages': False,\n",
       " 'has_discussions': False,\n",
       " 'forks_count': 15,\n",
       " 'mirror_url': None,\n",
       " 'archived': False,\n",
       " 'disabled': False,\n",
       " 'open_issues_count': 0,\n",
       " 'license': None,\n",
       " 'allow_forking': True,\n",
       " 'is_template': False,\n",
       " 'web_commit_signoff_required': False,\n",
       " 'topics': [],\n",
       " 'visibility': 'public',\n",
       " 'forks': 15,\n",
       " 'open_issues': 0,\n",
       " 'watchers': 1,\n",
       " 'default_branch': 'main',\n",
       " 'temp_clone_token': None,\n",
       " 'organization': {'login': 'Ironhack-Data-Madrid-Enero-2023',\n",
       "  'id': 122526190,\n",
       "  'node_id': 'O_kgDOB02Z7g',\n",
       "  'avatar_url': 'https://avatars.githubusercontent.com/u/122526190?v=4',\n",
       "  'gravatar_id': '',\n",
       "  'url': 'https://api.github.com/users/Ironhack-Data-Madrid-Enero-2023',\n",
       "  'html_url': 'https://github.com/Ironhack-Data-Madrid-Enero-2023',\n",
       "  'followers_url': 'https://api.github.com/users/Ironhack-Data-Madrid-Enero-2023/followers',\n",
       "  'following_url': 'https://api.github.com/users/Ironhack-Data-Madrid-Enero-2023/following{/other_user}',\n",
       "  'gists_url': 'https://api.github.com/users/Ironhack-Data-Madrid-Enero-2023/gists{/gist_id}',\n",
       "  'starred_url': 'https://api.github.com/users/Ironhack-Data-Madrid-Enero-2023/starred{/owner}{/repo}',\n",
       "  'subscriptions_url': 'https://api.github.com/users/Ironhack-Data-Madrid-Enero-2023/subscriptions',\n",
       "  'organizations_url': 'https://api.github.com/users/Ironhack-Data-Madrid-Enero-2023/orgs',\n",
       "  'repos_url': 'https://api.github.com/users/Ironhack-Data-Madrid-Enero-2023/repos',\n",
       "  'events_url': 'https://api.github.com/users/Ironhack-Data-Madrid-Enero-2023/events{/privacy}',\n",
       "  'received_events_url': 'https://api.github.com/users/Ironhack-Data-Madrid-Enero-2023/received_events',\n",
       "  'type': 'Organization',\n",
       "  'site_admin': False},\n",
       " 'network_count': 15,\n",
       " 'subscribers_count': 1}"
      ]
     },
     "execution_count": 24,
     "metadata": {},
     "output_type": "execute_result"
    }
   ],
   "source": [
    "result_git.json()"
   ]
  },
  {
   "cell_type": "code",
   "execution_count": 26,
   "id": "07c35726",
   "metadata": {},
   "outputs": [],
   "source": [
    "url='https://api.github.com/repos/Ironhack-Data-Madrid-Enero-2023/apuntes_clase/commits{/sha}' # nos metemos en la url de commits que es lo que estamos buscando"
   ]
  },
  {
   "cell_type": "code",
   "execution_count": 27,
   "id": "f33be760",
   "metadata": {},
   "outputs": [
    {
     "data": {
      "text/plain": [
       "{'id': 588107458,\n",
       " 'node_id': 'R_kgDOIw3Owg',\n",
       " 'name': 'apuntes_clase',\n",
       " 'full_name': 'Ironhack-Data-Madrid-Enero-2023/apuntes_clase',\n",
       " 'private': False,\n",
       " 'owner': {'login': 'Ironhack-Data-Madrid-Enero-2023',\n",
       "  'id': 122526190,\n",
       "  'node_id': 'O_kgDOB02Z7g',\n",
       "  'avatar_url': 'https://avatars.githubusercontent.com/u/122526190?v=4',\n",
       "  'gravatar_id': '',\n",
       "  'url': 'https://api.github.com/users/Ironhack-Data-Madrid-Enero-2023',\n",
       "  'html_url': 'https://github.com/Ironhack-Data-Madrid-Enero-2023',\n",
       "  'followers_url': 'https://api.github.com/users/Ironhack-Data-Madrid-Enero-2023/followers',\n",
       "  'following_url': 'https://api.github.com/users/Ironhack-Data-Madrid-Enero-2023/following{/other_user}',\n",
       "  'gists_url': 'https://api.github.com/users/Ironhack-Data-Madrid-Enero-2023/gists{/gist_id}',\n",
       "  'starred_url': 'https://api.github.com/users/Ironhack-Data-Madrid-Enero-2023/starred{/owner}{/repo}',\n",
       "  'subscriptions_url': 'https://api.github.com/users/Ironhack-Data-Madrid-Enero-2023/subscriptions',\n",
       "  'organizations_url': 'https://api.github.com/users/Ironhack-Data-Madrid-Enero-2023/orgs',\n",
       "  'repos_url': 'https://api.github.com/users/Ironhack-Data-Madrid-Enero-2023/repos',\n",
       "  'events_url': 'https://api.github.com/users/Ironhack-Data-Madrid-Enero-2023/events{/privacy}',\n",
       "  'received_events_url': 'https://api.github.com/users/Ironhack-Data-Madrid-Enero-2023/received_events',\n",
       "  'type': 'Organization',\n",
       "  'site_admin': False},\n",
       " 'html_url': 'https://github.com/Ironhack-Data-Madrid-Enero-2023/apuntes_clase',\n",
       " 'description': 'Material diario de clase',\n",
       " 'fork': False,\n",
       " 'url': 'https://api.github.com/repos/Ironhack-Data-Madrid-Enero-2023/apuntes_clase',\n",
       " 'forks_url': 'https://api.github.com/repos/Ironhack-Data-Madrid-Enero-2023/apuntes_clase/forks',\n",
       " 'keys_url': 'https://api.github.com/repos/Ironhack-Data-Madrid-Enero-2023/apuntes_clase/keys{/key_id}',\n",
       " 'collaborators_url': 'https://api.github.com/repos/Ironhack-Data-Madrid-Enero-2023/apuntes_clase/collaborators{/collaborator}',\n",
       " 'teams_url': 'https://api.github.com/repos/Ironhack-Data-Madrid-Enero-2023/apuntes_clase/teams',\n",
       " 'hooks_url': 'https://api.github.com/repos/Ironhack-Data-Madrid-Enero-2023/apuntes_clase/hooks',\n",
       " 'issue_events_url': 'https://api.github.com/repos/Ironhack-Data-Madrid-Enero-2023/apuntes_clase/issues/events{/number}',\n",
       " 'events_url': 'https://api.github.com/repos/Ironhack-Data-Madrid-Enero-2023/apuntes_clase/events',\n",
       " 'assignees_url': 'https://api.github.com/repos/Ironhack-Data-Madrid-Enero-2023/apuntes_clase/assignees{/user}',\n",
       " 'branches_url': 'https://api.github.com/repos/Ironhack-Data-Madrid-Enero-2023/apuntes_clase/branches{/branch}',\n",
       " 'tags_url': 'https://api.github.com/repos/Ironhack-Data-Madrid-Enero-2023/apuntes_clase/tags',\n",
       " 'blobs_url': 'https://api.github.com/repos/Ironhack-Data-Madrid-Enero-2023/apuntes_clase/git/blobs{/sha}',\n",
       " 'git_tags_url': 'https://api.github.com/repos/Ironhack-Data-Madrid-Enero-2023/apuntes_clase/git/tags{/sha}',\n",
       " 'git_refs_url': 'https://api.github.com/repos/Ironhack-Data-Madrid-Enero-2023/apuntes_clase/git/refs{/sha}',\n",
       " 'trees_url': 'https://api.github.com/repos/Ironhack-Data-Madrid-Enero-2023/apuntes_clase/git/trees{/sha}',\n",
       " 'statuses_url': 'https://api.github.com/repos/Ironhack-Data-Madrid-Enero-2023/apuntes_clase/statuses/{sha}',\n",
       " 'languages_url': 'https://api.github.com/repos/Ironhack-Data-Madrid-Enero-2023/apuntes_clase/languages',\n",
       " 'stargazers_url': 'https://api.github.com/repos/Ironhack-Data-Madrid-Enero-2023/apuntes_clase/stargazers',\n",
       " 'contributors_url': 'https://api.github.com/repos/Ironhack-Data-Madrid-Enero-2023/apuntes_clase/contributors',\n",
       " 'subscribers_url': 'https://api.github.com/repos/Ironhack-Data-Madrid-Enero-2023/apuntes_clase/subscribers',\n",
       " 'subscription_url': 'https://api.github.com/repos/Ironhack-Data-Madrid-Enero-2023/apuntes_clase/subscription',\n",
       " 'commits_url': 'https://api.github.com/repos/Ironhack-Data-Madrid-Enero-2023/apuntes_clase/commits{/sha}',\n",
       " 'git_commits_url': 'https://api.github.com/repos/Ironhack-Data-Madrid-Enero-2023/apuntes_clase/git/commits{/sha}',\n",
       " 'comments_url': 'https://api.github.com/repos/Ironhack-Data-Madrid-Enero-2023/apuntes_clase/comments{/number}',\n",
       " 'issue_comment_url': 'https://api.github.com/repos/Ironhack-Data-Madrid-Enero-2023/apuntes_clase/issues/comments{/number}',\n",
       " 'contents_url': 'https://api.github.com/repos/Ironhack-Data-Madrid-Enero-2023/apuntes_clase/contents/{+path}',\n",
       " 'compare_url': 'https://api.github.com/repos/Ironhack-Data-Madrid-Enero-2023/apuntes_clase/compare/{base}...{head}',\n",
       " 'merges_url': 'https://api.github.com/repos/Ironhack-Data-Madrid-Enero-2023/apuntes_clase/merges',\n",
       " 'archive_url': 'https://api.github.com/repos/Ironhack-Data-Madrid-Enero-2023/apuntes_clase/{archive_format}{/ref}',\n",
       " 'downloads_url': 'https://api.github.com/repos/Ironhack-Data-Madrid-Enero-2023/apuntes_clase/downloads',\n",
       " 'issues_url': 'https://api.github.com/repos/Ironhack-Data-Madrid-Enero-2023/apuntes_clase/issues{/number}',\n",
       " 'pulls_url': 'https://api.github.com/repos/Ironhack-Data-Madrid-Enero-2023/apuntes_clase/pulls{/number}',\n",
       " 'milestones_url': 'https://api.github.com/repos/Ironhack-Data-Madrid-Enero-2023/apuntes_clase/milestones{/number}',\n",
       " 'notifications_url': 'https://api.github.com/repos/Ironhack-Data-Madrid-Enero-2023/apuntes_clase/notifications{?since,all,participating}',\n",
       " 'labels_url': 'https://api.github.com/repos/Ironhack-Data-Madrid-Enero-2023/apuntes_clase/labels{/name}',\n",
       " 'releases_url': 'https://api.github.com/repos/Ironhack-Data-Madrid-Enero-2023/apuntes_clase/releases{/id}',\n",
       " 'deployments_url': 'https://api.github.com/repos/Ironhack-Data-Madrid-Enero-2023/apuntes_clase/deployments',\n",
       " 'created_at': '2023-01-12T10:45:43Z',\n",
       " 'updated_at': '2023-02-06T15:58:12Z',\n",
       " 'pushed_at': '2023-02-06T11:36:13Z',\n",
       " 'git_url': 'git://github.com/Ironhack-Data-Madrid-Enero-2023/apuntes_clase.git',\n",
       " 'ssh_url': 'git@github.com:Ironhack-Data-Madrid-Enero-2023/apuntes_clase.git',\n",
       " 'clone_url': 'https://github.com/Ironhack-Data-Madrid-Enero-2023/apuntes_clase.git',\n",
       " 'svn_url': 'https://github.com/Ironhack-Data-Madrid-Enero-2023/apuntes_clase',\n",
       " 'homepage': None,\n",
       " 'size': 659902,\n",
       " 'stargazers_count': 1,\n",
       " 'watchers_count': 1,\n",
       " 'language': 'Jupyter Notebook',\n",
       " 'has_issues': True,\n",
       " 'has_projects': True,\n",
       " 'has_downloads': True,\n",
       " 'has_wiki': True,\n",
       " 'has_pages': False,\n",
       " 'has_discussions': False,\n",
       " 'forks_count': 15,\n",
       " 'mirror_url': None,\n",
       " 'archived': False,\n",
       " 'disabled': False,\n",
       " 'open_issues_count': 0,\n",
       " 'license': None,\n",
       " 'allow_forking': True,\n",
       " 'is_template': False,\n",
       " 'web_commit_signoff_required': False,\n",
       " 'topics': [],\n",
       " 'visibility': 'public',\n",
       " 'forks': 15,\n",
       " 'open_issues': 0,\n",
       " 'watchers': 1,\n",
       " 'default_branch': 'main',\n",
       " 'temp_clone_token': None,\n",
       " 'organization': {'login': 'Ironhack-Data-Madrid-Enero-2023',\n",
       "  'id': 122526190,\n",
       "  'node_id': 'O_kgDOB02Z7g',\n",
       "  'avatar_url': 'https://avatars.githubusercontent.com/u/122526190?v=4',\n",
       "  'gravatar_id': '',\n",
       "  'url': 'https://api.github.com/users/Ironhack-Data-Madrid-Enero-2023',\n",
       "  'html_url': 'https://github.com/Ironhack-Data-Madrid-Enero-2023',\n",
       "  'followers_url': 'https://api.github.com/users/Ironhack-Data-Madrid-Enero-2023/followers',\n",
       "  'following_url': 'https://api.github.com/users/Ironhack-Data-Madrid-Enero-2023/following{/other_user}',\n",
       "  'gists_url': 'https://api.github.com/users/Ironhack-Data-Madrid-Enero-2023/gists{/gist_id}',\n",
       "  'starred_url': 'https://api.github.com/users/Ironhack-Data-Madrid-Enero-2023/starred{/owner}{/repo}',\n",
       "  'subscriptions_url': 'https://api.github.com/users/Ironhack-Data-Madrid-Enero-2023/subscriptions',\n",
       "  'organizations_url': 'https://api.github.com/users/Ironhack-Data-Madrid-Enero-2023/orgs',\n",
       "  'repos_url': 'https://api.github.com/users/Ironhack-Data-Madrid-Enero-2023/repos',\n",
       "  'events_url': 'https://api.github.com/users/Ironhack-Data-Madrid-Enero-2023/events{/privacy}',\n",
       "  'received_events_url': 'https://api.github.com/users/Ironhack-Data-Madrid-Enero-2023/received_events',\n",
       "  'type': 'Organization',\n",
       "  'site_admin': False},\n",
       " 'network_count': 15,\n",
       " 'subscribers_count': 1}"
      ]
     },
     "execution_count": 27,
     "metadata": {},
     "output_type": "execute_result"
    }
   ],
   "source": [
    "result_git.json()"
   ]
  },
  {
   "cell_type": "code",
   "execution_count": 32,
   "id": "6dbf727c",
   "metadata": {},
   "outputs": [
    {
     "name": "stdout",
     "output_type": "stream",
     "text": [
      "Number of commits: 7\n"
     ]
    }
   ],
   "source": [
    "commit_counts=[]\n",
    "\n",
    "commit_count = len('commits')\n",
    "print(\"Number of commits:\", commit_count)"
   ]
  },
  {
   "cell_type": "code",
   "execution_count": null,
   "id": "636f5011",
   "metadata": {},
   "outputs": [],
   "source": []
  },
  {
   "cell_type": "code",
   "execution_count": null,
   "id": "creative-stable",
   "metadata": {},
   "outputs": [],
   "source": [
    "# Example: print(variable[:10]) "
   ]
  },
  {
   "cell_type": "code",
   "execution_count": null,
   "id": "ongoing-taylor",
   "metadata": {},
   "outputs": [],
   "source": []
  },
  {
   "cell_type": "code",
   "execution_count": null,
   "id": "85f9a705",
   "metadata": {},
   "outputs": [],
   "source": []
  }
 ],
 "metadata": {
  "kernelspec": {
   "display_name": "Python 3 (ipykernel)",
   "language": "python",
   "name": "python3"
  },
  "language_info": {
   "codemirror_mode": {
    "name": "ipython",
    "version": 3
   },
   "file_extension": ".py",
   "mimetype": "text/x-python",
   "name": "python",
   "nbconvert_exporter": "python",
   "pygments_lexer": "ipython3",
   "version": "3.9.13"
  },
  "toc": {
   "base_numbering": 1,
   "nav_menu": {},
   "number_sections": true,
   "sideBar": true,
   "skip_h1_title": true,
   "title_cell": "Table of Contents",
   "title_sidebar": "Contents",
   "toc_cell": false,
   "toc_position": {
    "height": "calc(100% - 180px)",
    "left": "10px",
    "top": "150px",
    "width": "288px"
   },
   "toc_section_display": true,
   "toc_window_display": true
  }
 },
 "nbformat": 4,
 "nbformat_minor": 5
}
